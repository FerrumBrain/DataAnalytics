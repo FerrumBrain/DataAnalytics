{
 "cells": [
  {
   "metadata": {},
   "cell_type": "markdown",
   "source": "Imports",
   "id": "59d90b0d1b02590c"
  },
  {
   "metadata": {
    "ExecuteTime": {
     "end_time": "2024-12-18T17:03:56.526795Z",
     "start_time": "2024-12-18T17:03:55.982826Z"
    }
   },
   "cell_type": "code",
   "source": "!pip install -r requirements.txt",
   "id": "245205517da0c3b3",
   "outputs": [
    {
     "name": "stdout",
     "output_type": "stream",
     "text": [
      "\u001B[33mDEPRECATION: Configuring installation scheme with distutils config files is deprecated and will no longer work in the near future. If you are using a Homebrew or Linuxbrew Python, please see discussion at https://github.com/Homebrew/homebrew-core/issues/76621\u001B[0m\u001B[33m\r\n",
      "\u001B[0mRequirement already satisfied: pandas>=2.2.3 in /Users/Timur.Kudashev/Library/Python/3.9/lib/python/site-packages (from -r requirements.txt (line 1)) (2.2.3)\r\n",
      "Requirement already satisfied: numpy>=1.22.4 in /Users/Timur.Kudashev/Library/Python/3.9/lib/python/site-packages (from pandas>=2.2.3->-r requirements.txt (line 1)) (2.0.2)\r\n",
      "Requirement already satisfied: python-dateutil>=2.8.2 in /Users/Timur.Kudashev/Library/Python/3.9/lib/python/site-packages (from pandas>=2.2.3->-r requirements.txt (line 1)) (2.9.0.post0)\r\n",
      "Requirement already satisfied: pytz>=2020.1 in /Users/Timur.Kudashev/Library/Python/3.9/lib/python/site-packages (from pandas>=2.2.3->-r requirements.txt (line 1)) (2024.2)\r\n",
      "Requirement already satisfied: tzdata>=2022.7 in /Users/Timur.Kudashev/Library/Python/3.9/lib/python/site-packages (from pandas>=2.2.3->-r requirements.txt (line 1)) (2024.2)\r\n",
      "Requirement already satisfied: six>=1.5 in /opt/homebrew/lib/python3.9/site-packages (from python-dateutil>=2.8.2->pandas>=2.2.3->-r requirements.txt (line 1)) (1.16.0)\r\n",
      "\u001B[33mDEPRECATION: Configuring installation scheme with distutils config files is deprecated and will no longer work in the near future. If you are using a Homebrew or Linuxbrew Python, please see discussion at https://github.com/Homebrew/homebrew-core/issues/76621\u001B[0m\u001B[33m\r\n",
      "\u001B[0m"
     ]
    }
   ],
   "execution_count": 307
  },
  {
   "cell_type": "code",
   "id": "initial_id",
   "metadata": {
    "collapsed": true,
    "ExecuteTime": {
     "end_time": "2024-12-18T17:03:56.533733Z",
     "start_time": "2024-12-18T17:03:56.531097Z"
    }
   },
   "source": "import pandas as pd",
   "outputs": [],
   "execution_count": 308
  },
  {
   "metadata": {},
   "cell_type": "markdown",
   "source": "Load datasets",
   "id": "a4d742d68e195183"
  },
  {
   "metadata": {
    "ExecuteTime": {
     "end_time": "2024-12-18T17:03:57.102237Z",
     "start_time": "2024-12-18T17:03:56.560331Z"
    }
   },
   "cell_type": "code",
   "source": [
    "def read_csv(filename):\n",
    "    df = pd.read_csv(\n",
    "        filename,\n",
    "        header=0,                     # Use the first row as the header\n",
    "        delimiter=';',                # Use semicolon as the main delimiter\n",
    "        decimal=',',                  # Specify that commas are used as decimals\n",
    "        quotechar='\"',                # Handle quotes around strings\n",
    "        skipinitialspace=True,        # Skip spaces after delimiters\n",
    "    )\n",
    "    df.set_index(df.columns[0], inplace=True)\n",
    "    return df\n",
    "\n",
    "airlines = read_csv('airlines.csv')\n",
    "airports = read_csv('airports.csv')\n",
    "planes = read_csv('planes.csv')\n",
    "flights = read_csv('flights.csv')\n",
    "weather = read_csv('weather.csv')"
   ],
   "id": "f7daf9dd451fd171",
   "outputs": [],
   "execution_count": 309
  },
  {
   "metadata": {
    "ExecuteTime": {
     "end_time": "2024-12-18T17:03:57.129587Z",
     "start_time": "2024-12-18T17:03:57.127235Z"
    }
   },
   "cell_type": "code",
   "source": [
    "def check_for_nulls(df):\n",
    "    res = {}\n",
    "    for c in df.columns:\n",
    "        if df[df[c].isnull()].shape[0] != 0:\n",
    "            res[c] = df[df[c].isnull()].shape[0]\n",
    "    return res"
   ],
   "id": "572ecf65add28033",
   "outputs": [],
   "execution_count": 310
  },
  {
   "metadata": {
    "ExecuteTime": {
     "end_time": "2024-12-18T17:03:57.265272Z",
     "start_time": "2024-12-18T17:03:57.154036Z"
    }
   },
   "cell_type": "code",
   "source": [
    "print(\"Nullable columns in airlines:\", check_for_nulls(airlines))\n",
    "print(\"Nullable columns in airports:\", check_for_nulls(airports))\n",
    "print(\"Nullable columns in planes:\", check_for_nulls(planes))\n",
    "print(\"Nullable columns in flights:\", check_for_nulls(flights))\n",
    "print(\"Nullable columns in weather:\", check_for_nulls(weather))"
   ],
   "id": "db41668d83fcfcd0",
   "outputs": [
    {
     "name": "stdout",
     "output_type": "stream",
     "text": [
      "Nullable columns in airlines: {}\n",
      "Nullable columns in airports: {'tz': 48, 'dst': 48, 'tzone': 119}\n",
      "Nullable columns in planes: {'year': 89}\n",
      "Nullable columns in flights: {'dep_time': 10738, 'dep_delay': 10738, 'arr_time': 11453, 'arr_delay': 12534, 'tailnum': 1913, 'air_time': 12534}\n",
      "Nullable columns in weather: {'temp': 25536, 'dewp': 25536, 'humid': 25536, 'wind_dir': 1220, 'wind_speed': 1033, 'wind_gust': 1033, 'precip': 24611, 'pressure': 25632, 'visib': 24}\n"
     ]
    }
   ],
   "execution_count": 311
  },
  {
   "metadata": {},
   "cell_type": "markdown",
   "source": "Clean Datasets",
   "id": "2a84846bea4a0912"
  },
  {
   "metadata": {
    "ExecuteTime": {
     "end_time": "2024-12-18T17:03:57.293783Z",
     "start_time": "2024-12-18T17:03:57.290851Z"
    }
   },
   "cell_type": "code",
   "source": [
    "def clear_airports(df):\n",
    "    # I checked that tz is null = dst is null\n",
    "    df = df.dropna(subset=['tz', 'dst'])\n",
    "    for idx, row in df[df['tzone'].isnull()].iterrows():\n",
    "        matching_row = df[(df['tz'] == row['tz']) & pd.notnull(df['tzone'])]\n",
    "        if not matching_row.empty:\n",
    "            df.at[idx, 'tzone'] = matching_row['tzone'].iloc[0]\n",
    "        else:\n",
    "            df = df.drop(idx)\n",
    "    return df"
   ],
   "id": "6503774e1ae900a3",
   "outputs": [],
   "execution_count": 312
  },
  {
   "metadata": {
    "ExecuteTime": {
     "end_time": "2024-12-18T17:03:57.319811Z",
     "start_time": "2024-12-18T17:03:57.317788Z"
    }
   },
   "cell_type": "code",
   "source": [
    "def clear_planes(df):\n",
    "    return df.dropna()"
   ],
   "id": "cbf90cdd8af4e9a3",
   "outputs": [],
   "execution_count": 313
  },
  {
   "metadata": {
    "ExecuteTime": {
     "end_time": "2024-12-18T17:03:57.346201Z",
     "start_time": "2024-12-18T17:03:57.343398Z"
    }
   },
   "cell_type": "code",
   "source": [
    "def clear_flights(df):\n",
    "    # I checked that dep_time is null = dep_delay is null \\subset arr_time is null \\subset arr_delay is null \\subset air_time is null\n",
    "    df = df.dropna(subset=['arr_time', 'tailnum'])\n",
    "    for idx, row in df[df['air_time'].isnull()].iterrows():\n",
    "        df.at[idx, 'arr_delay'] = df['arr_time'].iloc[0] - df['sched_arr_time'].iloc[0]\n",
    "        df.at[idx, 'air_time'] = df['arr_time'].iloc[0] - df['dep_time'].iloc[0]\n",
    "    return df"
   ],
   "id": "d6aa14e4183997ea",
   "outputs": [],
   "execution_count": 314
  },
  {
   "metadata": {
    "ExecuteTime": {
     "end_time": "2024-12-18T17:03:57.372413Z",
     "start_time": "2024-12-18T17:03:57.369720Z"
    }
   },
   "cell_type": "code",
   "source": [
    "def clear_weather(df):\n",
    "    # I checked that precip is null \\subset temp is null = dewp is null = humid is null \\subset pressure is null\n",
    "    df['temp'] = df['temp'].fillna(df['temp'].median())\n",
    "    df['dewp'] = df['dewp'].fillna(df['dewp'].median())\n",
    "    df['humid'] = df['humid'].fillna(df['humid'].median())\n",
    "    df['wind_speed'] = df['wind_speed'].fillna(df['wind_speed'].mean())\n",
    "    return df.ffill().bfill()"
   ],
   "id": "11ef0e48bd74cbcc",
   "outputs": [],
   "execution_count": 315
  },
  {
   "metadata": {
    "ExecuteTime": {
     "end_time": "2024-12-18T17:03:57.680477Z",
     "start_time": "2024-12-18T17:03:57.396757Z"
    }
   },
   "cell_type": "code",
   "source": [
    "clean_airlines = airlines\n",
    "clean_airports = clear_airports(airports.copy())\n",
    "clean_planes = clear_planes(planes.copy())\n",
    "clean_flights = clear_flights(flights.copy())\n",
    "clean_weather = clear_weather(weather.copy())"
   ],
   "id": "d7dc7662a2607d7c",
   "outputs": [],
   "execution_count": 316
  },
  {
   "metadata": {
    "ExecuteTime": {
     "end_time": "2024-12-18T17:03:57.772216Z",
     "start_time": "2024-12-18T17:03:57.705059Z"
    }
   },
   "cell_type": "code",
   "source": [
    "print(\"Nullable columns in airlines:\", check_for_nulls(clean_airlines))\n",
    "print(\"Nullable columns in airports:\", check_for_nulls(clean_airports))\n",
    "print(\"Nullable columns in planes:\", check_for_nulls(clean_planes))\n",
    "print(\"Nullable columns in flights:\", check_for_nulls(clean_flights))\n",
    "print(\"Nullable columns in weather:\", check_for_nulls(clean_weather))"
   ],
   "id": "fe68afa6e555868f",
   "outputs": [
    {
     "name": "stdout",
     "output_type": "stream",
     "text": [
      "Nullable columns in airlines: {}\n",
      "Nullable columns in airports: {}\n",
      "Nullable columns in planes: {}\n",
      "Nullable columns in flights: {}\n",
      "Nullable columns in weather: {}\n"
     ]
    }
   ],
   "execution_count": 317
  },
  {
   "metadata": {
    "ExecuteTime": {
     "end_time": "2024-12-18T17:03:57.801839Z",
     "start_time": "2024-12-18T17:03:57.798614Z"
    }
   },
   "cell_type": "code",
   "source": [
    "print(\"Airports old vs new:\", airports.shape, clean_airports.shape)\n",
    "print(\"Planes old vs new:\", planes.shape, clean_planes.shape)\n",
    "print(\"Flights old vs new:\", flights.shape, clean_flights.shape)\n",
    "print(\"Weather old vs new:\", weather.shape, clean_weather.shape)"
   ],
   "id": "8a0be35aae2bf8e1",
   "outputs": [
    {
     "name": "stdout",
     "output_type": "stream",
     "text": [
      "Airports old vs new: (1251, 8) (1194, 8)\n",
      "Planes old vs new: (4840, 9) (4751, 9)\n",
      "Flights old vs new: (435352, 19) (423899, 19)\n",
      "Weather old vs new: (26204, 15) (26204, 15)\n"
     ]
    }
   ],
   "execution_count": 318
  }
 ],
 "metadata": {
  "kernelspec": {
   "display_name": "Python 3",
   "language": "python",
   "name": "python3"
  },
  "language_info": {
   "codemirror_mode": {
    "name": "ipython",
    "version": 2
   },
   "file_extension": ".py",
   "mimetype": "text/x-python",
   "name": "python",
   "nbconvert_exporter": "python",
   "pygments_lexer": "ipython2",
   "version": "2.7.6"
  }
 },
 "nbformat": 4,
 "nbformat_minor": 5
}
