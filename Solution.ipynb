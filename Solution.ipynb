{
 "cells": [
  {
   "metadata": {},
   "cell_type": "markdown",
   "source": "Imports",
   "id": "59d90b0d1b02590c"
  },
  {
   "metadata": {},
   "cell_type": "code",
   "source": [
    "from pandas.core.interchange.dataframe_protocol import DataFrame\n",
    "!pip install -r requirements.txt"
   ],
   "id": "245205517da0c3b3",
   "outputs": [],
   "execution_count": null
  },
  {
   "cell_type": "code",
   "id": "initial_id",
   "metadata": {
    "collapsed": true
   },
   "source": "import pandas as pd",
   "outputs": [],
   "execution_count": null
  },
  {
   "metadata": {},
   "cell_type": "markdown",
   "source": "Load datasets",
   "id": "326f9a9f4ca67062"
  },
  {
   "metadata": {},
   "cell_type": "code",
   "source": [
    "def read_csv(filename):\n",
    "    df = pd.read_csv(\n",
    "        filename,\n",
    "        header=0,  # Use the first row as the header\n",
    "        delimiter=';',  # Use semicolon as the main delimiter\n",
    "        decimal=',',  # Specify that commas are used as decimals\n",
    "        quotechar='\"',  # Handle quotes around strings\n",
    "        skipinitialspace=True,  # Skip spaces after delimiters\n",
    "    )\n",
    "    df.set_index(df.columns[0], inplace=True)\n",
    "    return df\n",
    "\n",
    "airlines = read_csv('airlines.csv')\n",
    "airports = read_csv('airports.csv')\n",
    "planes = read_csv('planes.csv')\n",
    "flights = read_csv('flights.csv')\n",
    "weather = read_csv('weather.csv')"
   ],
   "id": "c2dc9d3103ef59c2",
   "outputs": [],
   "execution_count": null
  },
  {
   "metadata": {},
   "cell_type": "code",
   "source": [
    "def check_for_nulls(df):\n",
    "    res = {}\n",
    "    for c in df.columns:\n",
    "        if df[df[c].isnull()].shape[0] != 0:\n",
    "            res[c] = df[df[c].isnull()].shape[0]\n",
    "    return res"
   ],
   "id": "d8eb05f0deb2873a",
   "outputs": [],
   "execution_count": null
  },
  {
   "metadata": {},
   "cell_type": "code",
   "source": [
    "print(\"Nullable columns in airlines:\", check_for_nulls(airlines))\n",
    "print(\"Nullable columns in airports:\", check_for_nulls(airports))\n",
    "print(\"Nullable columns in planes:\", check_for_nulls(planes))\n",
    "print(\"Nullable columns in flights:\", check_for_nulls(flights))\n",
    "print(\"Nullable columns in weather:\", check_for_nulls(weather))"
   ],
   "id": "ddfbfed4aa63e007",
   "outputs": [],
   "execution_count": null
  },
  {
   "metadata": {},
   "cell_type": "markdown",
   "source": "Clean Datasets",
   "id": "2689a5a439b238f5"
  },
  {
   "metadata": {},
   "cell_type": "code",
   "source": [
    "def clear_airports(df):\n",
    "    # I checked that tz is null = dst is null\n",
    "    df = df.dropna(subset=['tz', 'dst'])\n",
    "    for idx, row in df[df['tzone'].isnull()].iterrows():\n",
    "        matching_row = df[(df['tz'] == row['tz']) & pd.notnull(df['tzone'])]\n",
    "        if not matching_row.empty:\n",
    "            df.at[idx, 'tzone'] = matching_row['tzone'].iloc[0]\n",
    "        else:\n",
    "            df = df.drop(idx)\n",
    "    return df"
   ],
   "id": "51e286ff5c28305f",
   "outputs": [],
   "execution_count": null
  },
  {
   "metadata": {},
   "cell_type": "code",
   "source": [
    "def clear_planes(df):\n",
    "    return df.dropna()"
   ],
   "id": "a8cefdbd673d9e92",
   "outputs": [],
   "execution_count": null
  },
  {
   "metadata": {},
   "cell_type": "code",
   "source": [
    "def clear_flights(df):\n",
    "    # I checked that dep_time is null = dep_delay is null \\subset arr_time is null \\subset arr_delay is null \\subset air_time is null\n",
    "    df = df.dropna(subset=['arr_time', 'tailnum'])\n",
    "    for idx, row in df[df['air_time'].isnull()].iterrows():\n",
    "        df.at[idx, 'arr_delay'] = df['arr_time'].iloc[0] - df['sched_arr_time'].iloc[0]\n",
    "        df.at[idx, 'air_time'] = df['arr_time'].iloc[0] - df['dep_time'].iloc[0]\n",
    "    return df"
   ],
   "id": "a61898d49873eaad",
   "outputs": [],
   "execution_count": null
  },
  {
   "metadata": {},
   "cell_type": "code",
   "source": [
    "def clear_weather(df):\n",
    "    # I checked that precip is null \\subset temp is null = dewp is null = humid is null \\subset pressure is null\n",
    "    df['temp'] = df['temp'].fillna(df['temp'].median())\n",
    "    df['dewp'] = df['dewp'].fillna(df['dewp'].median())\n",
    "    df['humid'] = df['humid'].fillna(df['humid'].median())\n",
    "    df['wind_speed'] = df['wind_speed'].fillna(df['wind_speed'].mean())\n",
    "    return df.ffill().bfill()"
   ],
   "id": "ab184548acc3901",
   "outputs": [],
   "execution_count": null
  },
  {
   "metadata": {},
   "cell_type": "code",
   "source": [
    "clean_airlines = airlines\n",
    "clean_airports = clear_airports(airports.copy())\n",
    "clean_planes = clear_planes(planes.copy())\n",
    "clean_flights = clear_flights(flights.copy())\n",
    "clean_weather = clear_weather(weather.copy())"
   ],
   "id": "2afe2d6ccd1f961c",
   "outputs": [],
   "execution_count": null
  },
  {
   "metadata": {},
   "cell_type": "code",
   "source": [
    "print(\"Nullable columns in airlines:\", check_for_nulls(clean_airlines))\n",
    "print(\"Nullable columns in airports:\", check_for_nulls(clean_airports))\n",
    "print(\"Nullable columns in planes:\", check_for_nulls(clean_planes))\n",
    "print(\"Nullable columns in flights:\", check_for_nulls(clean_flights))\n",
    "print(\"Nullable columns in weather:\", check_for_nulls(clean_weather))"
   ],
   "id": "bff1a40aa822497c",
   "outputs": [],
   "execution_count": null
  },
  {
   "metadata": {},
   "cell_type": "code",
   "source": [
    "print(\"Airports old vs new:\", airports.shape, clean_airports.shape)\n",
    "print(\"Planes old vs new:\", planes.shape, clean_planes.shape)\n",
    "print(\"Flights old vs new:\", flights.shape, clean_flights.shape)\n",
    "print(\"Weather old vs new:\", weather.shape, clean_weather.shape)"
   ],
   "id": "dcf873437d7f6eb9",
   "outputs": [],
   "execution_count": null
  },
  {
   "metadata": {},
   "cell_type": "code",
   "source": [
    "import numpy as np\n",
    "\n",
    "all_tables = [clean_airlines, clean_airports, clean_planes, clean_flights, clean_weather]\n",
    "\n",
    "\n",
    "# Gets additional value such as min / median / max etc.\n",
    "def column_summary(df):\n",
    "    result_df = pd.DataFrame({\n",
    "        'col_name': pd.Series(dtype='str'),\n",
    "        'col_dtype': pd.Series(dtype='str'),\n",
    "        'num_distinct_values': pd.Series(dtype='int'),\n",
    "        'min_value': pd.Series(dtype='float'),\n",
    "        'max_value': pd.Series(dtype='float'),\n",
    "        'median_no_na': pd.Series(dtype='float'),\n",
    "        'average_no_na': pd.Series(dtype='float'),\n",
    "        'average_non_zero': pd.Series(dtype='float'),\n",
    "        'null_present': pd.Series(dtype='bool'),\n",
    "        'nulls_num': pd.Series(dtype='int'),\n",
    "        'non_nulls_num': pd.Series(dtype='int'),\n",
    "        'distinct_values': pd.Series(dtype='object'),\n",
    "    })\n",
    "\n",
    "    df = df.reset_index(drop=True)\n",
    "\n",
    "    # Loop through each column in the DataFrame\n",
    "    for column in df.columns:\n",
    "        # Get column dtype\n",
    "        col_dtype = df[column].dtype\n",
    "        # Get distinct values and their counts\n",
    "        value_counts = df[column].value_counts()\n",
    "        distinct_values = value_counts.index.tolist()\n",
    "        # Get number of distinct values\n",
    "        num_distinct_values = len(distinct_values)\n",
    "        # Get min and max values\n",
    "        sorted_values = sorted(distinct_values)\n",
    "        min_value = sorted_values[0] if sorted_values else None\n",
    "        max_value = sorted_values[-1] if sorted_values else None\n",
    "\n",
    "        # Get median value\n",
    "        non_distinct_val_list = sorted(df[column].dropna().tolist())\n",
    "        len_non_d_list = len(non_distinct_val_list)\n",
    "        if len(non_distinct_val_list) == 0:\n",
    "            median = None\n",
    "        else:\n",
    "            median = non_distinct_val_list[len_non_d_list // 2]\n",
    "\n",
    "        # Get average value if value is number\n",
    "        if np.issubdtype(df[column].dtype, np.number):\n",
    "            if len(non_distinct_val_list) > 0:\n",
    "                average = sum(non_distinct_val_list) / len_non_d_list\n",
    "                non_zero_val_list = [v for v in non_distinct_val_list if v > 0]\n",
    "                average_non_zero = sum(non_zero_val_list) / len_non_d_list\n",
    "            else:\n",
    "                average = None\n",
    "                average_non_zero = None\n",
    "        else:\n",
    "            average = None\n",
    "            average_non_zero = None\n",
    "\n",
    "        # Check if null values are present\n",
    "        null_present = 1 if df[column].isnull().any() else 0\n",
    "\n",
    "        # Get number of nulls and non-nulls\n",
    "        num_nulls = df[column].isnull().sum()\n",
    "        num_non_nulls = df[column].notnull().sum()\n",
    "\n",
    "        # Distinct_values only take top 10 distinct values count\n",
    "        top_10_d_v = value_counts.head(10).index.tolist()\n",
    "        top_10_c = value_counts.head(10).tolist()\n",
    "        top_10_d_v_dict = dict(zip(top_10_d_v, top_10_c))\n",
    "\n",
    "        # Append the information to the result DataFrame\n",
    "        result_df = pd.concat([result_df, pd.DataFrame(\n",
    "            [{'col_name': column, 'col_dtype': col_dtype, 'num_distinct_values': num_distinct_values,\n",
    "              'min_value': min_value, 'max_value': max_value,\n",
    "              'median_no_na': median, 'average_no_na': average, 'average_non_zero': average_non_zero,\n",
    "              'null_present': null_present, 'nulls_num': num_nulls, 'non_nulls_num': num_non_nulls,\n",
    "              'distinct_values': top_10_d_v_dict}])], ignore_index=True)\n",
    "\n",
    "    return result_df\n",
    "\n",
    "\n",
    "for table in all_tables:\n",
    "    summary_df = (column_summary(table))\n",
    "    display(summary_df)"
   ],
   "id": "edeceeb02c1ea25d",
   "outputs": [],
   "execution_count": null
  },
  {
   "metadata": {},
   "cell_type": "code",
   "source": "",
   "id": "ba156734f3072707",
   "outputs": [],
   "execution_count": null
  }
 ],
 "metadata": {
  "kernelspec": {
   "display_name": "Python 3",
   "language": "python",
   "name": "python3"
  },
  "language_info": {
   "codemirror_mode": {
    "name": "ipython",
    "version": 2
   },
   "file_extension": ".py",
   "mimetype": "text/x-python",
   "name": "python",
   "nbconvert_exporter": "python",
   "pygments_lexer": "ipython2",
   "version": "2.7.6"
  }
 },
 "nbformat": 4,
 "nbformat_minor": 5
}
