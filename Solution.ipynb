{
 "cells": [
  {
   "metadata": {},
   "cell_type": "markdown",
   "source": "Imports",
   "id": "59d90b0d1b02590c"
  },
  {
   "metadata": {
    "ExecuteTime": {
     "end_time": "2024-12-18T13:35:55.258239Z",
     "start_time": "2024-12-18T13:35:53.698361Z"
    }
   },
   "cell_type": "code",
   "source": "!pip install -r requirements.txt",
   "id": "245205517da0c3b3",
   "outputs": [
    {
     "name": "stdout",
     "output_type": "stream",
     "text": [
      "\u001B[33mDEPRECATION: Configuring installation scheme with distutils config files is deprecated and will no longer work in the near future. If you are using a Homebrew or Linuxbrew Python, please see discussion at https://github.com/Homebrew/homebrew-core/issues/76621\u001B[0m\u001B[33m\r\n",
      "\u001B[0mRequirement already satisfied: pandas>=2.2.3 in /Users/Timur.Kudashev/Library/Python/3.9/lib/python/site-packages (from -r requirements.txt (line 1)) (2.2.3)\r\n",
      "Requirement already satisfied: numpy>=1.22.4 in /Users/Timur.Kudashev/Library/Python/3.9/lib/python/site-packages (from pandas>=2.2.3->-r requirements.txt (line 1)) (2.0.2)\r\n",
      "Requirement already satisfied: python-dateutil>=2.8.2 in /Users/Timur.Kudashev/Library/Python/3.9/lib/python/site-packages (from pandas>=2.2.3->-r requirements.txt (line 1)) (2.9.0.post0)\r\n",
      "Requirement already satisfied: pytz>=2020.1 in /Users/Timur.Kudashev/Library/Python/3.9/lib/python/site-packages (from pandas>=2.2.3->-r requirements.txt (line 1)) (2024.2)\r\n",
      "Requirement already satisfied: tzdata>=2022.7 in /Users/Timur.Kudashev/Library/Python/3.9/lib/python/site-packages (from pandas>=2.2.3->-r requirements.txt (line 1)) (2024.2)\r\n",
      "Requirement already satisfied: six>=1.5 in /opt/homebrew/lib/python3.9/site-packages (from python-dateutil>=2.8.2->pandas>=2.2.3->-r requirements.txt (line 1)) (1.16.0)\r\n",
      "\u001B[33mDEPRECATION: Configuring installation scheme with distutils config files is deprecated and will no longer work in the near future. If you are using a Homebrew or Linuxbrew Python, please see discussion at https://github.com/Homebrew/homebrew-core/issues/76621\u001B[0m\u001B[33m\r\n",
      "\u001B[0m"
     ]
    }
   ],
   "execution_count": 3
  },
  {
   "cell_type": "code",
   "id": "initial_id",
   "metadata": {
    "collapsed": true,
    "ExecuteTime": {
     "end_time": "2024-12-18T13:36:08.429732Z",
     "start_time": "2024-12-18T13:35:57.599555Z"
    }
   },
   "source": "import pandas as pd",
   "outputs": [],
   "execution_count": 4
  }
 ],
 "metadata": {
  "kernelspec": {
   "display_name": "Python 3",
   "language": "python",
   "name": "python3"
  },
  "language_info": {
   "codemirror_mode": {
    "name": "ipython",
    "version": 2
   },
   "file_extension": ".py",
   "mimetype": "text/x-python",
   "name": "python",
   "nbconvert_exporter": "python",
   "pygments_lexer": "ipython2",
   "version": "2.7.6"
  }
 },
 "nbformat": 4,
 "nbformat_minor": 5
}
